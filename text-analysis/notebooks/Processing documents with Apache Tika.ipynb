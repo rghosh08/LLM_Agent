{
  "cells": [
    {
      "cell_type": "markdown",
      "metadata": {
        "id": "_c0fNqrdj20h"
      },
      "source": [
        "# Converting all kinds of documents into text\n",
        "\n",
        "Have a collection of documents? Word docs, HTML files, PDFs, _image-based_ PDFs, and anything else? Don't worry, Apache Tika has you covered."
      ]
    },
    {
      "cell_type": "markdown",
      "metadata": {
        "id": "6OI1fVxkj20i"
      },
      "source": [
        "<p class=\"reading-options\">\n",
        "  <a class=\"btn\" href=\"/text-analysis/processing-documents-with-apache-tika\">\n",
        "    <i class=\"fa fa-sm fa-book\"></i>\n",
        "    Read online\n",
        "  </a>\n",
        "  <a class=\"btn\" href=\"/text-analysis/notebooks/Processing documents with Apache Tika.ipynb\">\n",
        "    <i class=\"fa fa-sm fa-download\"></i>\n",
        "    Download notebook\n",
        "  </a>\n",
        "  <a class=\"btn\" href=\"https://colab.research.google.com/github/littlecolumns/ds4j-notebooks/blob/master/text-analysis/notebooks/Processing documents with Apache Tika.ipynb\" target=\"_new\">\n",
        "    <i class=\"fa fa-sm fa-laptop\"></i>\n",
        "    Interactive version\n",
        "  </a>\n",
        "</p>"
      ]
    },
    {
      "cell_type": "markdown",
      "metadata": {
        "id": "bVxX-iGCj20i"
      },
      "source": [
        "## Installation\n",
        "\n",
        "These installation instructions only work on OS X, but it's possible to get the same software running on Windows.\n",
        "\n",
        "### Tesseract\n",
        "\n",
        "[Tesseract](https://github.com/tesseract-ocr/tesseract) is a piece of software that performs OCR, converting images of text into actual text. If we need to perform OCR on more languages than just English, we'll also need to install `tesseract-lang` to add more languages to the mix.\n",
        "    \n",
        "```\n",
        "brew install tesseract tesseract-lang\n",
        "```\n",
        "\n",
        "### Tika\n",
        "\n",
        "[Tika](https://tika.apache.org/) is an incredible piece of software that converts just about any kind of document to text. It requires Java - I installed Java from https://www.java.com/en/download/ and it didn't work, so you'll need to use the install command below.\n",
        "\n",
        "```\n",
        "brew cask install adoptopenjdk\n",
        "brew install tika\n",
        "```\n",
        "\n",
        "Tika will automatically know about tesseract.\n",
        "\n",
        "### Python bindings for Tika\n",
        "\n",
        "Tika is a piece of software that exists _outside of Python_. If we want Python to be able to use Tika, we'll need to install the **Python bindings** for TIka.\n",
        "\n",
        "```\n",
        "pip install tika\n",
        "```\n",
        "\n",
        "If you'd like to just run this all from the notebook, uncomment and run the cell below. **You'll need to type in your password for the `adoptopenjdk` one, so be sure to pay attention to when it asks you.**"
      ]
    },
    {
      "cell_type": "code",
      "execution_count": null,
      "metadata": {
        "id": "5qhy4j3_j20i"
      },
      "outputs": [],
      "source": [
        "# !brew install tesseract tesseract-lang\n",
        "# !brew cask install adoptopenjdk\n",
        "# !brew install tika\n",
        "# !pip install tika"
      ]
    },
    {
      "cell_type": "markdown",
      "metadata": {
        "id": "kChxsx3Aj20i"
      },
      "source": [
        "## Documents we'll be using\n",
        "\n",
        "* `pdf`: https://data.ct.gov/download/fxjv-82m6/application/pdf\n",
        "* `doc`: https://pasteur.epa.gov/uploads/10.23719/1500001/LDPE_nanoclay_Highlights_.docx\n",
        "* `png` for OCR: https://upload.wikimedia.org/wikipedia/commons/5/5f/Dr._Jekyll_and_Mr._Hyde_Text.jpg\n",
        "\n",
        "## Confirm tesseract works"
      ]
    },
    {
      "cell_type": "code",
      "execution_count": null,
      "metadata": {
        "id": "9LCDx9pLj20i",
        "outputId": "c89972f5-5b72-4e32-88ce-e80e7d47dd13"
      },
      "outputs": [
        {
          "name": "stdout",
          "output_type": "stream",
          "text": [
            "  % Total    % Received % Xferd  Average Speed   Time    Time     Time  Current\n",
            "                                 Dload  Upload   Total   Spent    Left  Speed\n",
            "100  822k  100  822k    0     0  3259k      0 --:--:-- --:--:-- --:--:-- 3264k\n"
          ]
        }
      ],
      "source": [
        "# Download the image\n",
        "!curl -O https://upload.wikimedia.org/wikipedia/commons/5/5f/Dr._Jekyll_and_Mr._Hyde_Text.jpg"
      ]
    },
    {
      "cell_type": "markdown",
      "metadata": {
        "id": "UikcQhTHj20j"
      },
      "source": [
        "![](https://upload.wikimedia.org/wikipedia/commons/5/5f/Dr._Jekyll_and_Mr._Hyde_Text.jpg)"
      ]
    },
    {
      "cell_type": "code",
      "execution_count": null,
      "metadata": {
        "id": "j0CAUZfPj20j",
        "outputId": "e7f9a8d7-94c4-4749-c137-31e564cd108a"
      },
      "outputs": [
        {
          "name": "stdout",
          "output_type": "stream",
          "text": [
            "at his touch ofa certain icy pang along my blood. “Come, sir,’ said I.\r\n",
            "“You forget that I have not yet the pleasure of your acquaintance. Be\r\n",
            "seated, if you please.” And I showed him an example, and sat down\r\n",
            "myself in my customary seat and with as fair an imitation of my or-\r\n",
            "dinary manner to a patient, as the lateness of the hour, the nature of\r\n",
            "my preoccupations, and the horror I had of my visitor, would suffer\r\n",
            "me to muster.\r\n",
            "\r\n",
            "“I beg your pardon, Dr. Lanyon,” he replied civilly enough. “What\r\n",
            "you say is very well founded; and my impatience has shown its heels\r\n",
            "to my politeness. I come here at the instance of your colleague, Dr.\r\n",
            "Henry Jekyll, on a piece of business of some moment; and I under-\r\n",
            "stood...” He paused and put his hand to his throat, and I could see,\r\n",
            "in spite of his collected manner, that he was wrestling against the\r\n",
            "approaches of the hysteria—“I understood, a drawer...”\r\n",
            "\r\n",
            "But here I took pity on my visitor’s suspense, and some perhaps\r\n",
            "on my own growing curiosity.\r\n",
            "\r\n",
            "“There it is, sir,” said I, pointing to the drawer, where it lay on the\r\n",
            "floor behind a table and still covered with the sheet.\r\n",
            "\r\n",
            "He sprang to it, and then paused, and laid his hand upon his\r\n",
            "heart: I could hear his teeth grate with the convulsive action of his\r\n",
            "jaws; and his face was so ghastly to see that I grew alarmed both for\r\n",
            "his life and reason.\r\n",
            "\r\n",
            "“Compose yourself,’ said I.\r\n",
            "\r\n",
            "He turned a dreadful smile to me, and as if with the decision of\r\n",
            "despair, plucked away the sheet. At sight of the contents, he uttered\r\n",
            "one loud sob of such immense relief that I sat petrified. And the\r\n",
            "next moment, in a voice that was already fairly well under control,\r\n",
            "“Have you a graduated glass?” he asked.\r\n",
            "\r\n",
            "I rose from my place with something of an effort and gave him\r\n",
            "what he asked.\r\n",
            "\r\n",
            "He thanked me with a smiling nod, measured out a few min-\r\n",
            "ims of the red tincture and added one of the powders. The mix-\r\n",
            "ture, which was at first of a reddish hue, began, in proportion as the\r\n",
            "\f"
          ]
        }
      ],
      "source": [
        "!tesseract Dr._Jekyll_and_Mr._Hyde_Text.jpg stdout"
      ]
    },
    {
      "cell_type": "markdown",
      "metadata": {
        "id": "23btucz_j20j"
      },
      "source": [
        "## Using Tika\n",
        "\n",
        "### Starting it up"
      ]
    },
    {
      "cell_type": "code",
      "execution_count": null,
      "metadata": {
        "id": "LmFMGda_j20j"
      },
      "outputs": [],
      "source": [
        "import tika\n",
        "import requests\n",
        "from tika import parser\n",
        "\n",
        "# Start running the tika service\n",
        "tika.initVM()"
      ]
    },
    {
      "cell_type": "markdown",
      "metadata": {
        "id": "VugDfNCpj20j"
      },
      "source": [
        "### Doing your parsing\n",
        "\n",
        "There are two ways to do it!\n",
        "\n",
        "**Right from the web**\n",
        "\n",
        "```python\n",
        "response = requests.get(...)\n",
        "results = parser.from_buffer(response.content)\n",
        "```\n",
        "\n",
        "**From a downloaded file**\n",
        "\n",
        "```python\n",
        "results = parser.from_file(filename)\n",
        "```\n",
        "\n",
        "Note if you want to do **non-English OCR**, you need to change things up a bit. The one below for Greek. See what your tesseract supports with `tesseract --list-langs`\n",
        "\n",
        "```python\n",
        "headers = {\n",
        "    \"X-Tika-OCRLanguage\": \"grc\"\n",
        "}\n",
        "\n",
        "results = parser.from_buffer(response.content, headers=headers)\n",
        "```"
      ]
    },
    {
      "cell_type": "markdown",
      "metadata": {
        "id": "Mc-Tf9esj20j"
      },
      "source": [
        "## Examples\n",
        "\n",
        "### PDF example\n",
        "\n",
        "The first time it will be very slow, as it's... downloading Tika again, I think?"
      ]
    },
    {
      "cell_type": "code",
      "execution_count": null,
      "metadata": {
        "id": "-s6z06W8j20j"
      },
      "outputs": [],
      "source": [
        "response = requests.get('https://data.ct.gov/download/fxjv-82m6/application/pdf')\n",
        "results = parser.from_buffer(response)"
      ]
    },
    {
      "cell_type": "code",
      "execution_count": null,
      "metadata": {
        "id": "2stRgrQmj20j",
        "outputId": "dcf92198-a86e-47a6-9968-96ee85c6b108"
      },
      "outputs": [
        {
          "data": {
            "text/plain": [
              "dict_keys(['status', 'content', 'metadata'])"
            ]
          },
          "execution_count": 7,
          "metadata": {},
          "output_type": "execute_result"
        }
      ],
      "source": [
        "results.keys()"
      ]
    },
    {
      "cell_type": "code",
      "execution_count": null,
      "metadata": {
        "id": "3E435lvVj20j",
        "outputId": "1113440a-60fe-4baf-f250-31958016f188"
      },
      "outputs": [
        {
          "data": {
            "text/plain": [
              "200"
            ]
          },
          "execution_count": 8,
          "metadata": {},
          "output_type": "execute_result"
        }
      ],
      "source": [
        "results['status']"
      ]
    },
    {
      "cell_type": "code",
      "execution_count": null,
      "metadata": {
        "id": "WCL6QGrZj20j",
        "outputId": "f88ed51a-dbdb-4537-e599-f19214617a6b"
      },
      "outputs": [
        {
          "data": {
            "text/plain": [
              "'\\n\\n\\n\\n\\n\\n\\n\\n\\n\\n\\n\\n\\n\\n\\n\\n\\n\\n\\n\\n\\n\\n\\n\\n\\n\\n\\n\\n\\n\\n\\n\\n\\n\\n\\n\\n\\n\\n\\n\\n\\n\\n\\n \\n\\n  \\n\\n  \\n\\n \\n\\n \\n\\nConnecticut \\n\\nOpen Data \\n\\nPolicy \\nEffective April 22, 2015 \\n\\n \\n\\n \\n\\n \\n\\n \\n\\n \\n\\n \\n\\n \\n\\nPromulgated in accordance with and \\n\\nunder the authority of Executive \\n\\nOrder 39 of Governor Dannel P. \\n\\nMalloy \\n\\n \\n\\n  \\n\\n  \\n\\n \\n\\n  \\n \\n\\n  \\n\\n\\n\\n \\n\\n \\n\\nContents \\n\\n \\n\\n \\n1.0 Definitions .......................................................................................................................... 3 \\n\\n2.0  Introduction...................................................................................................................... 5 \\n\\n2.1  Intent ............................................................................................................................ 5 \\n\\n2.2  Scope ............................................................................................................................ 5 \\n\\n2.3  Legal Considerations ....................................................................................................... 5 '"
            ]
          },
          "execution_count": 9,
          "metadata": {},
          "output_type": "execute_result"
        }
      ],
      "source": [
        "# Only showing the first 500 chars because there are SO MANY\n",
        "results['content'][:1000]"
      ]
    },
    {
      "cell_type": "code",
      "execution_count": null,
      "metadata": {
        "id": "lQJCUPd_j20j",
        "outputId": "d66a08ef-16a9-47ed-fee0-b88de3b37c75"
      },
      "outputs": [
        {
          "name": "stdout",
          "output_type": "stream",
          "text": [
            "Connecticut \n",
            "\n",
            "Open Data \n",
            "\n",
            "Policy \n",
            "Effective April 22, 2015 \n",
            "\n",
            " \n",
            "\n",
            " \n",
            "\n",
            " \n",
            "\n",
            " \n",
            "\n",
            " \n",
            "\n",
            " \n",
            "\n",
            " \n",
            "\n",
            "Promulgated in accordance with and \n",
            "\n",
            "under the authority of Executive \n",
            "\n",
            "Order 39 of Governor Dannel P. \n",
            "\n",
            "Malloy \n",
            "\n",
            " \n",
            "\n",
            "  \n",
            "\n",
            "  \n",
            "\n",
            " \n",
            "\n",
            "  \n",
            " \n",
            "\n",
            "  \n",
            "\n",
            "\n",
            "\n",
            " \n",
            "\n",
            " \n",
            "\n",
            "Contents \n",
            "\n",
            " \n",
            "\n",
            " \n",
            "1.0 Definitions .......................................................................................................................... 3 \n",
            "\n",
            "2.0  Introduction...................................................................................................................... 5 \n",
            "\n",
            "2.1  Intent ............................................................................................................................ 5 \n",
            "\n",
            "2.2  Scope ............................................................................................................................ 5 \n",
            "\n",
            "2.3  Legal Considerations ....................................................................................................... 5 \n",
            "\n",
            "3.0  Open Data Policy Requirements ......................................................................................... 6 \n",
            "\n",
            "3.1  General Requirements .................................................................................................... 6 \n",
            "\n",
            "3.2  Open Data Criteria and Assessment Requirements ............................................................. 6 \n",
            "\n",
            "3.3  Additional Requirements ................................................................................................. 7 \n",
            "\n",
            "4.0  Governance and Oversight ................................................................................................. 7 \n",
            "\n",
            "Connecticut’s Chief Data Officer (CDO) ........................................................................................ 7 \n",
            "\n",
            "4.1  Agency Data Officer (ADO) .............................................................................................. 7 \n",
            "\n",
            "4.2  Agency Data Stewards (ADS) ............................................................................................ 7 \n",
            "\n",
            "5.0  State Data Standards ......................................................................................................... 8 \n",
            "\n",
            "5.1  Data Set Selection .......................................................................................................... 8 \n",
            "\n",
            "5.2  Data Set Publishing ......................................................................................................... 8 \n",
            "\n",
            "5.3  Maintenance ................................................................................................................. 8 \n",
            "\n",
            "5.4  Ownership & Responsibility ............................................................................................. 8 \n",
            "\n",
            " \n",
            "\n",
            " \n",
            "\n",
            " \n",
            "\n",
            "  \n",
            "\n",
            " \n",
            "\n",
            "  \n",
            "\n",
            "\n",
            "\n",
            " \n",
            "\n",
            " \n",
            "\n",
            " \n",
            "\n",
            "1.0 Definitions  \n",
            "\n",
            " Agency Data Officer: Responsible for fulfilling a State agency’s responsibilities under Executive \n",
            "\n",
            "Order 39 of Governor Dannel P. Malloy.  The Agency Data Officer shall be an employee, \n",
            "\n",
            "knowledgeable about the overall business practices of the agency and the data it collects.  \n",
            "\n",
            "API: An application programming interface, which is a set of definitions of the ways one piece \n",
            "\n",
            "of computer software communicates with another. It is a method of achieving abstraction, \n",
            "\n",
            "usually (but not necessarily) between higher-level and lower-level software. \n",
            "\n",
            " Catalog: A catalog is a searchable and interactive collection of data sets or web services often \n",
            "\n",
            "known as a portal or repository. \n",
            "\n",
            " Chief Data Officer: An individual within the Office of Policy and Management, designated by \n",
            "\n",
            "the Governor, to coordinate implementation of and compliance with Executive Order 39 of \n",
            "\n",
            "Governor Dannel P. Malloy, and coordinate initiatives to improve access to state data. \n",
            "\n",
            "  \n",
            "\n",
            "Data: Statistical or factual information that: (a) is reflected in a list, table, graph, chart, or other \n",
            "\n",
            "non-narrative form, that can be digitally transmitted or processed; (b) is regularly created and \n",
            "\n",
            "maintained by or on behalf of an executive branch agency; and (c) records a measurement, \n",
            "\n",
            "transaction, or determination related to the mission of the agency or is provided to the agency \n",
            "\n",
            "by third parties pursuant to law. \n",
            "\n",
            "  \n",
            "\n",
            "Database: A collection of data stored according to a schema and manipulated according to the \n",
            "\n",
            "rules set out in one Data Modelling Facility.  \n",
            "\n",
            " \n",
            "\n",
            "Data Inventory: An itemized list of current data assets such as: databases, data sets, \n",
            "\n",
            "spreadsheets, collections, or geospatial data in the possession of a State Agency \n",
            "\n",
            "  \n",
            "\n",
            "Data Set: A data set is an organized collection of data. The most basic representation of a data \n",
            "\n",
            "set is data elements presented in tabular form. Each column represents a particular variable. \n",
            "\n",
            "Each row corresponds to a given value of that column’s variable. A data set may also present \n",
            "\n",
            "information in a variety of non-tabular formats, such as an extensible mark-up language (XML) \n",
            "\n",
            "file, a geospatial data file, or an image file, etc. \n",
            "\n",
            "\n",
            "\n",
            " Machine Processed: Refers to information or data that is in a format that can be easily \n",
            "\n",
            "processed by a computer without human intervention while ensuring no semantic meaning is \n",
            "\n",
            "lost. \n",
            "\n",
            " Metadata: To facilitate common understanding, a number of characteristics, or attributes, of \n",
            "\n",
            "data are defined. These characteristics of data are known as “metadata”, that is, “data that \n",
            "\n",
            "describes data.” For any particular datum, the metadata may describe how the datum is \n",
            "\n",
            "represented, ranges of acceptable values, its relationship to other data, and how it should be \n",
            "\n",
            "labeled. Metadata also may provide other relevant information, such as the responsible \n",
            "\n",
            "steward, associated laws and regulations, and access management policy. Each of the types of \n",
            "\n",
            "data described herein has a corresponding set of metadata. The metadata for structured data \n",
            "\n",
            "objects describes the structure, data elements, interrelationships, and other characteristics of \n",
            "\n",
            "information, including its creation, disposition, access and handling controls, formats, content, \n",
            "\n",
            "and context, as well as related audit trails. Metadata includes data element names (such as \n",
            "\n",
            "Organization Name, Address, etc.), their definition, and their format (numeric, date, text, etc.). \n",
            "\n",
            "In contrast, data is the actual data values such as the “US Patent and Trade Office” or the \n",
            "\n",
            "“Social Security Administration” for the metadata called “Organization Name” and including a \n",
            "\n",
            "description of the data sources. Metadata may also include metrics about an organization’s \n",
            "\n",
            "data including its data quality (accuracy, completeness, etc.). \n",
            "\n",
            " Standardized: Utilizing standards developed or adopted by voluntary consensus standards \n",
            "\n",
            "bodies, both domestic and international. These standards include provisions requiring that \n",
            "\n",
            "owners of relevant intellectual property have agreed to make that intellectual property \n",
            "\n",
            "available on a non-discriminatory, royalty-free or reasonable royalty basis to all interested \n",
            "\n",
            "parties. \n",
            "\n",
            "Web Service: A Web service is a method of communication between two or more electronic \n",
            "\n",
            "devices over a network. It has an interface described in a machine-processable format \n",
            "\n",
            "(specifically Representational State Transfer or REST).  \n",
            "\n",
            " \n",
            "\n",
            "            \n",
            "\n",
            "  \n",
            "\n",
            "\n",
            "\n",
            " \n",
            "\n",
            "  \n",
            "\n",
            "2.0  Introduction \n",
            "\n",
            "2.1  Intent \n",
            "\n",
            "Connecticut Open Data, as supported by the Open Data Policy (ODP) is intended to: \n",
            "\n",
            "● Increase agency accountability and responsiveness \n",
            "\n",
            "● Improve public knowledge of the government and its operations. \n",
            "\n",
            "● Provide timely data that is easily accessible to the public \n",
            "\n",
            "● Encourage public participation and interaction with government agencies, policies and \n",
            "\n",
            "issues \n",
            "\n",
            "● Foster agency/interagency efficiency \n",
            "\n",
            "● Create economic opportunity \n",
            "\n",
            "● Facilitate partnerships with non-governmental organizations \n",
            "\n",
            "● Empower citizens to create value from Open Data \n",
            "\n",
            "● Encourage the use of open frameworks and products, allowing third parties to embrace \n",
            "\n",
            "and expand on the state’s open data services. \n",
            "\n",
            "2.2  Scope \n",
            "\n",
            "The ODP applies to data in the custody or under the control of the State Agencies with a \n",
            "\n",
            "department head as defined by section 4-5 of the General Statutes. While the ODP applies to all \n",
            "\n",
            "government data: legal, policy, and contractual obligations limit the application of this ODP in \n",
            "\n",
            "some cases. In addition, this ODP sets out specific criteria that must be met before data can be \n",
            "\n",
            "considered Open Data. \n",
            "\n",
            "  \n",
            "\n",
            "2.3  Legal Considerations \n",
            "\n",
            "The following legal considerations guide the development of the ODP and provide context for \n",
            "\n",
            "its application. \n",
            "\n",
            "Federal Freedom of Information Act (FOIA) \n",
            "\n",
            "Enacted in 1966, and taking effect on July 5, 1967, FOIA provides that any person has a right, \n",
            "\n",
            "enforceable in court, to obtain access to federal agency records, except to the extent that such \n",
            "\n",
            "records (or portions of them) are protected from public disclosure by several exemptions or by \n",
            "\n",
            "one of three special law enforcement record exclusions. For additional information regarding \n",
            "\n",
            "the FOIA, visit www.foia.gov. \n",
            "\n",
            "Connecticut Freedom of Information Act \n",
            "\n",
            "The Connecticut Freedom of Information Act (CTFOIA) is under the authority of the Connecticut \n",
            "\n",
            "Freedom of Information Commission. Their mission is “to administer and enforce the provisions \n",
            "\n",
            "http://www.cga.ct.gov/current/pub/chap_046.htm#sec_4-5\n",
            "http://www.foia.gov/\n",
            "http://www.foia.gov/\n",
            "\n",
            "\n",
            "of the Connecticut freedom of information act, and to thereby ensure citizen access to the \n",
            "\n",
            "records and meetings of public agencies in the state of Connecticut”. For additional information \n",
            "\n",
            "on the Connecticut Freedom of Information Commission, go to www.ct.gov/foi. \n",
            "\n",
            "Open Data Licensing \n",
            "\n",
            "Explicit licensing is essential to provide clarity and certainty to users and reusers. Generally, \n",
            "\n",
            "Open Data provided by State Agencies should be identified as “Public Domain,” however in \n",
            "\n",
            "some instances it may be necessary, or desirable to apply an Open Data license. Open Data \n",
            "\n",
            "licenses are available from Open Data Commons: http://opendatacommons.org/licenses/odbl/. \n",
            "\n",
            "  \n",
            "\n",
            "3.0  Open Data Policy Requirements \n",
            "\n",
            "3.1  General Requirements \n",
            "\n",
            "The following poli\n"
          ]
        }
      ],
      "source": [
        "# Only showing the first 10000 chars\n",
        "print(results['content'][:10000].strip())"
      ]
    },
    {
      "cell_type": "markdown",
      "metadata": {
        "id": "GjntFfquj20k"
      },
      "source": [
        "### Word doc example"
      ]
    },
    {
      "cell_type": "code",
      "execution_count": null,
      "metadata": {
        "id": "hTGbdb6bj20k",
        "outputId": "5ef620b8-f9be-43f0-be58-e39f1171a425"
      },
      "outputs": [
        {
          "name": "stdout",
          "output_type": "stream",
          "text": [
            "Highlights \n",
            "\n",
            "Evaluating Weathering of Food Packaging Polyethylene-Nano-clay Composites: Release of Nanoparticles and their Impacts\n",
            "\n",
            "Changseok Han1, Amy Zhao1, and Eunice Varughese2, E. Sahle-Demessie*1\n",
            "\n",
            "\n",
            "\n",
            "\n",
            "1. UV or O3 degradation food packaging composites released nanoclay particles. \n",
            "2. Properties of nanocomposites changed during accelerated weathering.\n",
            "3. Nanoclay release was proportional to weathering time.\n",
            "4. Toxicity of released nanoclay at test concentrations were not significant.\n"
          ]
        }
      ],
      "source": [
        "response = requests.get('https://pasteur.epa.gov/uploads/10.23719/1500001/LDPE_nanoclay_Highlights_.docx')\n",
        "results = parser.from_buffer(response)\n",
        "print(results['content'].strip())"
      ]
    },
    {
      "cell_type": "markdown",
      "metadata": {
        "id": "8ZDIMhkfj20k"
      },
      "source": [
        "### OCR image example\n",
        "\n",
        "It will work the same with a PDF instead of an image."
      ]
    },
    {
      "cell_type": "code",
      "execution_count": null,
      "metadata": {
        "id": "8bg_p3iKj20k",
        "outputId": "59421f74-b8e8-4a7f-9378-ba63d01192a8"
      },
      "outputs": [
        {
          "data": {
            "text/plain": [
              "200"
            ]
          },
          "execution_count": 17,
          "metadata": {},
          "output_type": "execute_result"
        }
      ],
      "source": [
        "response = requests.get('https://upload.wikimedia.org/wikipedia/commons/5/5f/Dr._Jekyll_and_Mr._Hyde_Text.jpg')\n",
        "results = parser.from_buffer(response)\n",
        "results['status']"
      ]
    },
    {
      "cell_type": "code",
      "execution_count": null,
      "metadata": {
        "id": "TAPXs8FPj20k",
        "outputId": "9a5d3694-5049-4760-b761-f8cbf105838a"
      },
      "outputs": [
        {
          "name": "stdout",
          "output_type": "stream",
          "text": [
            "at his touch ofa certain icy pang along my blood. “Come, sir,’ said I.\n",
            "“You forget that I have not yet the pleasure of your acquaintance. Be\n",
            "seated, if you please.” And I showed him an example, and sat down\n",
            "myself in my customary seat and with as fair an imitation of my or-\n",
            "dinary manner to a patient, as the lateness of the hour, the nature of\n",
            "my preoccupations, and the horror I had of my visitor, would suffer\n",
            "me to muster.\n",
            "\n",
            "“I beg your pardon, Dr. Lanyon,” he replied civilly enough. “What\n",
            "you say is very well founded; and my impatience has shown its heels\n",
            "to my politeness. I come here at the instance of your colleague, Dr.\n",
            "Henry Jekyll, on a piece of business of some moment; and I under-\n",
            "stood...” He paused and put his hand to his throat, and I could see,\n",
            "in spite of his collected manner, that he was wrestling against the\n",
            "approaches of the hysteria—“I understood, a drawer...”\n",
            "\n",
            "But here I took pity on my visitor’s suspense, and some perhaps\n",
            "on my own growing curiosity.\n",
            "\n",
            "“There it is, sir,” said I, pointing to the drawer, where it lay on the\n",
            "floor behind a table and still covered with the sheet.\n",
            "\n",
            "He sprang to it, and then paused, and laid his hand upon his\n",
            "heart: I could hear his teeth grate with the convulsive action of his\n",
            "jaws; and his face was so ghastly to see that I grew alarmed both for\n",
            "his life and reason.\n",
            "\n",
            "“Compose yourself,’ said I.\n",
            "\n",
            "He turned a dreadful smile to me, and as if with the decision of\n",
            "despair, plucked away the sheet. At sight of the contents, he uttered\n",
            "one loud sob of such immense relief that I sat petrified. And the\n",
            "next moment, in a voice that was already fairly well under control,\n",
            "“Have you a graduated glass?” he asked.\n",
            "\n",
            "I rose from my place with something of an effort and gave him\n",
            "what he asked.\n",
            "\n",
            "He thanked me with a smiling nod, measured out a few min-\n",
            "ims of the red tincture and added one of the powders. The mix-\n",
            "ture, which was at first of a reddish hue, began, in proportion as the\n"
          ]
        }
      ],
      "source": [
        "print(results['content'].strip())"
      ]
    },
    {
      "cell_type": "markdown",
      "metadata": {
        "id": "d29b6Px7j20k"
      },
      "source": [
        "### Using local files"
      ]
    },
    {
      "cell_type": "code",
      "execution_count": null,
      "metadata": {
        "id": "9XDwhfQij20k",
        "outputId": "f9740e88-9e1d-44ea-e39d-718597588ba9"
      },
      "outputs": [
        {
          "name": "stdout",
          "output_type": "stream",
          "text": [
            "  % Total    % Received % Xferd  Average Speed   Time    Time     Time  Current\n",
            "                                 Dload  Upload   Total   Spent    Left  Speed\n",
            "100  822k  100  822k    0     0  2594k      0 --:--:-- --:--:-- --:--:-- 2595k\n",
            "at his touch ofa certain icy pang along my blood. “Come, sir,’ said I.\n",
            "“You forget that I have not yet the pleasure of your acquaintance. Be\n",
            "seated, if you please.” And I showed him an example, and sat down\n",
            "myself in my customary seat and with as fair an imitation of my or-\n",
            "dinary manner to a patient, as the lateness of the hour, the nature of\n",
            "my preoccupations, and the horror I had of my visitor, would suffer\n",
            "me to muster.\n",
            "\n",
            "“I beg your pardon, Dr. Lanyon,” he replied civilly enough. “What\n",
            "you say is very well founded; and my impatience has shown its heels\n",
            "to my politeness. I come here at the instance of your colleague, Dr.\n",
            "Henry Jekyll, on a piece of business of some moment; and I under-\n",
            "stood...” He paused and put his hand to his throat, and I could see,\n",
            "in spite of his collected manner, that he was wrestling against the\n",
            "approaches of the hysteria—“I understood, a drawer...”\n",
            "\n",
            "But here I took pity on my visitor’s suspense, and some perhaps\n",
            "on my own growing curiosity.\n",
            "\n",
            "“There it is, sir,” said I, pointing to the drawer, where it lay on the\n",
            "floor behind a table and still covered with the sheet.\n",
            "\n",
            "He sprang to it, and then paused, and laid his hand upon his\n",
            "heart: I could hear his teeth grate with the convulsive action of his\n",
            "jaws; and his face was so ghastly to see that I grew alarmed both for\n",
            "his life and reason.\n",
            "\n",
            "“Compose yourself,’ said I.\n",
            "\n",
            "He turned a dreadful smile to me, and as if with the decision of\n",
            "despair, plucked away the sheet. At sight of the contents, he uttered\n",
            "one loud sob of such immense relief that I sat petrified. And the\n",
            "next moment, in a voice that was already fairly well under control,\n",
            "“Have you a graduated glass?” he asked.\n",
            "\n",
            "I rose from my place with something of an effort and gave him\n",
            "what he asked.\n",
            "\n",
            "He thanked me with a smiling nod, measured out a few min-\n",
            "ims of the red tincture and added one of the powders. The mix-\n",
            "ture, which was at first of a reddish hue, began, in proportion as the\n"
          ]
        }
      ],
      "source": [
        "# Save the file locally\n",
        "!curl -O https://upload.wikimedia.org/wikipedia/commons/5/5f/Dr._Jekyll_and_Mr._Hyde_Text.jpg\n",
        "\n",
        "results = parser.from_file('Dr._Jekyll_and_Mr._Hyde_Text.jpg')\n",
        "print(results['content'].strip())"
      ]
    },
    {
      "cell_type": "code",
      "execution_count": 23,
      "metadata": {
        "id": "nBb5oBwuj20k"
      },
      "outputs": [],
      "source": [
        "world = ['green', 'red', 'red', 'green', 'green']\n",
        "measurements = ['red', 'red']\n",
        "motions = [1, 1]\n",
        "pHit = 0.6\n",
        "pMiss = 0.2\n",
        "\n",
        "p = [0.2, 0.2, 0.2, 0.2, 0.2]\n",
        "# p = [0, 1, 0, 0, 0]\n",
        "pExact = 0.8\n",
        "pOvershoot = 0.1\n",
        "pUndershoot = 0.1\n",
        "\n",
        "def sense(p, Z):\n",
        "    q = []\n",
        "    for i in range(len(p)):\n",
        "        hit = (Z == world[i])\n",
        "        q.append(p[i] * (hit * pHit + (1 - hit) * pMiss))\n",
        "    s = sum(q)\n",
        "    for i in range(len(q)):\n",
        "        q[i] = q[i] / s\n",
        "    return q\n",
        "\n",
        "def move(p, U):\n",
        "    # U = U % len(p)\n",
        "    # q = p[-U:] + p[:-U]\n",
        "    q = []\n",
        "    for i in range(len(p)):\n",
        "        s = pExact * p[(i - U) % len(p)]\n",
        "        s = s + pOvershoot * p[(i - U - 1) % len(p)]\n",
        "        s = s + pUndershoot * p[(i - U + 1) % len(p)]\n",
        "        q.append(s)\n",
        "    return q\n",
        "\n",
        "# motions = [1, 1]\n",
        "\n",
        "for k in range(len(measurements)):\n",
        "    p = sense(p, measurements[k])\n",
        "    p = move(p, motions[k])\n",
        "\n",
        "# move_count = 1000\n",
        "# for k in range(move_count):\n",
        "#     p = move(p, 1)\n"
      ]
    },
    {
      "cell_type": "code",
      "source": [
        "print(p)"
      ],
      "metadata": {
        "id": "Sf40A_yBl0WK",
        "outputId": "33404a4e-4572-45dc-ecdb-b4915cac380c",
        "colab": {
          "base_uri": "https://localhost:8080/"
        }
      },
      "execution_count": 24,
      "outputs": [
        {
          "output_type": "stream",
          "name": "stdout",
          "text": [
            "[0.07882352941176471, 0.07529411764705884, 0.22470588235294123, 0.4329411764705882, 0.18823529411764706]\n"
          ]
        }
      ]
    },
    {
      "cell_type": "code",
      "source": [
        "p"
      ],
      "metadata": {
        "id": "Ru9XJpL9GnU2",
        "outputId": "6744e384-644a-4006-8354-e05ab9068171",
        "colab": {
          "base_uri": "https://localhost:8080/"
        }
      },
      "execution_count": 3,
      "outputs": [
        {
          "output_type": "execute_result",
          "data": {
            "text/plain": [
              "[0, 1, 0, 0, 0]"
            ]
          },
          "metadata": {},
          "execution_count": 3
        }
      ]
    },
    {
      "cell_type": "code",
      "source": [
        "p[-1:]"
      ],
      "metadata": {
        "id": "xcg76U_WGswW",
        "outputId": "e03f4197-d0ac-4479-943d-7805a2cf9a53",
        "colab": {
          "base_uri": "https://localhost:8080/"
        }
      },
      "execution_count": 4,
      "outputs": [
        {
          "output_type": "execute_result",
          "data": {
            "text/plain": [
              "[0]"
            ]
          },
          "metadata": {},
          "execution_count": 4
        }
      ]
    },
    {
      "cell_type": "code",
      "source": [
        "p[:-1]"
      ],
      "metadata": {
        "id": "Nc8IK3UeGvXb",
        "outputId": "61a9197f-81f0-4931-f357-71bbcdce3a07",
        "colab": {
          "base_uri": "https://localhost:8080/"
        }
      },
      "execution_count": 5,
      "outputs": [
        {
          "output_type": "execute_result",
          "data": {
            "text/plain": [
              "[0, 1, 0, 0]"
            ]
          },
          "metadata": {},
          "execution_count": 5
        }
      ]
    },
    {
      "cell_type": "code",
      "source": [
        "# basically cutting where the split is taking place."
      ],
      "metadata": {
        "id": "Cj4HcSCiGzQ1"
      },
      "execution_count": 6,
      "outputs": []
    },
    {
      "cell_type": "code",
      "source": [],
      "metadata": {
        "id": "TRi1H59hG8BJ"
      },
      "execution_count": null,
      "outputs": []
    }
  ],
  "metadata": {
    "kernelspec": {
      "display_name": "Python 3",
      "name": "python3"
    },
    "language_info": {
      "codemirror_mode": {
        "name": "ipython",
        "version": 3
      },
      "file_extension": ".py",
      "mimetype": "text/x-python",
      "name": "python",
      "nbconvert_exporter": "python",
      "pygments_lexer": "ipython3",
      "version": "3.6.8"
    },
    "toc": {
      "base_numbering": 1,
      "nav_menu": {},
      "number_sections": true,
      "sideBar": true,
      "skip_h1_title": false,
      "title_cell": "Table of Contents",
      "title_sidebar": "Contents",
      "toc_cell": false,
      "toc_position": {},
      "toc_section_display": true,
      "toc_window_display": false
    },
    "colab": {
      "provenance": [],
      "toc_visible": true,
      "machine_shape": "hm",
      "gpuType": "A100"
    },
    "accelerator": "GPU"
  },
  "nbformat": 4,
  "nbformat_minor": 0
}